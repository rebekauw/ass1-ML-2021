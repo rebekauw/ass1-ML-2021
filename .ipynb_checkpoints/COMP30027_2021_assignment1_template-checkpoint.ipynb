{
 "cells": [
  {
   "cell_type": "markdown",
   "metadata": {},
   "source": [
    "###### ### The University of Melbourne, School of Computing and Information Systems\n",
    "# COMP30027 Machine Learning, 2021 Semester 1\n",
    "\n",
    "## Assignment 1: Pose classification with naive Bayes\n",
    "\n",
    "###### Submission deadline: 7 pm, Tuesday 6 Apr 2021"
   ]
  },
  {
   "cell_type": "markdown",
   "metadata": {},
   "source": [
    "#### **Student ID(s):**     1074412\n"
   ]
  },
  {
   "cell_type": "markdown",
   "metadata": {},
   "source": [
    "This iPython notebook is a template which you will use for your Assignment 1 submission.\n",
    "\n",
    "Marking will be applied on the four functions that are defined in this notebook, and to your responses to the questions at the end of this notebook (Submitted in a separate PDF file).\n",
    "\n",
    "**NOTE: YOU SHOULD ADD YOUR RESULTS, DIAGRAMS AND IMAGES FROM YOUR OBSERVATIONS IN THIS FILE TO YOUR REPORT (the PDF file).**\n",
    "\n",
    "You may change the prototypes of these functions, and you may write other functions, according to your requirements. We would appreciate it if the required functions were prominent/easy to find.\n",
    "\n",
    "**Adding proper comments to your code is MANDATORY. **"
   ]
  },
  {
   "cell_type": "code",
   "execution_count": 22,
   "metadata": {},
   "outputs": [],
   "source": [
    "# Libraries\n",
    "import pandas as pd\n",
    "import numpy as np\n",
    "import math\n",
    "from scipy.stats import norm\n",
    "#import sklearn"
   ]
  },
  {
   "cell_type": "code",
   "execution_count": 23,
   "metadata": {},
   "outputs": [],
   "source": [
    "# Global constants\n",
    "epsilon = 1e-30  # for dealing with missing values"
   ]
  },
  {
   "cell_type": "code",
   "execution_count": 24,
   "metadata": {},
   "outputs": [],
   "source": [
    "\"\"\"\n",
    "This function should prepare the data by reading it from a file\n",
    "and converting it into a useful format for training and testing\n",
    "\"\"\"\n",
    "def preprocess():\n",
    "\n",
    "    # Read in data, taking 9999 entries as missing values\n",
    "    train = pd.read_csv(\"train.csv\",header=None,na_values=9999)\n",
    "    test  = pd.read_csv( \"test.csv\",header=None,na_values=9999)\n",
    "\n",
    "    # Assign class / corresponding feature names to each column\n",
    "    train.columns = [\"target\"]+[coord + str(i+1) for coord in [\"x\",\"y\"] for i in range(11)]\n",
    "    test.columns  = [\"target\"]+[coord + str(i+1) for coord in [\"x\",\"y\"] for i in range(11)]\n",
    "    \n",
    "    # Drop instances with more than half their attribute values missing\n",
    "    #train.dropna(thresh=11, inplace=True)\n",
    "\n",
    "    # Consider that some poses may be facing different directions?????\n",
    "\n",
    "    # Write to cleaned data file\n",
    "    train.to_csv(\"train_clean.csv\",index=False)\n",
    "    test.to_csv(  \"test_clean.csv\",index=False)\n",
    "    \n",
    "    return"
   ]
  },
  {
   "cell_type": "code",
   "execution_count": 25,
   "metadata": {},
   "outputs": [],
   "source": [
    "\"\"\"\n",
    "This function takes target labels in Series to calculate and return prior probabilities\n",
    "\"\"\"\n",
    "def get_priors(y):\n",
    "\n",
    "    # Priors P(c_j) = # instances in c_j / total # of instances (i.e. proportion)\n",
    "    priors = y.value_counts(sort=False,normalize=True)  # no sort of values, normalize to get proportion\n",
    "    priors.name       = \"prior\"\n",
    "    priors.index.name = \"target\"\n",
    "\n",
    "    return priors # Series\n"
   ]
  },
  {
   "cell_type": "code",
   "execution_count": 27,
   "metadata": {},
   "outputs": [],
   "source": [
    "\"\"\"\n",
    "This function should calculate prior probabilities and likelihoods from the training data\n",
    "and uses them to build a naive Bayes model\n",
    "\"\"\"\n",
    "def train():\n",
    "\n",
    "    # Read in data from preprocessed data files\n",
    "    data = pd.read_csv(\"train_clean.csv\")\n",
    "    data.set_index(\"target\",inplace=True)\n",
    "\n",
    "    # Calculate prior probabilities P(c_j) and write to csv\n",
    "    priors = get_priors(data.index)\n",
    "    priors.to_csv(\"priors.csv\")\n",
    "\n",
    "    # Calulate means of each coordinate for each target label and write to cv\n",
    "    means = data.groupby(\"target\").mean()\n",
    "    means.to_csv(\"means.csv\")\n",
    "\n",
    "    # Calulate standard deviations of each coordinate for each target label and write to csv\n",
    "    stds  = data.groupby(\"target\").std()\n",
    "    stds.to_csv(\"stds.csv\")\n",
    "    \n",
    "    return"
   ]
  },
  {
   "cell_type": "code",
   "execution_count": 28,
   "metadata": {},
   "outputs": [],
   "source": [
    "\"\"\"\n",
    "This function takes data, means and standard deviations in DataFrames and returns posterior probabilities\n",
    "\"\"\"\n",
    "def get_loglikelihoods(X, mu, sigma):\n",
    "\n",
    "    # Likelihood P(T|c_j) = sum(P(x_i|c_j)) = sum(f((x_i - mu) / sigma)) where f is standardised Gaussian pdf\n",
    "    likelihoods = (X - mu) / sigma                   # 1. standardise values\n",
    "    likelihoods = likelihoods.applymap(norm.pdf)     # 2. compute likelihoods of values\n",
    "    likelihoods = likelihoods.fillna(epsilon)        # 3. impute missing values with epsilon\n",
    "    loglikelihoods = np.log(likelihoods)             # 4. take log of values\n",
    "    loglikelihoods = loglikelihoods.sum(axis=1)      # 5. sum each row to get likelihood of instance\n",
    "    \n",
    "    return loglikelihoods # Series"
   ]
  },
  {
   "cell_type": "code",
   "execution_count": 29,
   "metadata": {},
   "outputs": [],
   "source": [
    "\"\"\"\n",
    "This function takes data in DataFrame, priors in Series, means and standard deviations in DataFrame\n",
    "and returns the target label that produces the minimum log-likelihood\n",
    "\"\"\"\n",
    "def NB_predict(X, means, stds):\n",
    "\n",
    "    # Intialise 3D list of log-likelihoods\n",
    "    loglikelihoods = []\n",
    "\n",
    "    # Loop through all target labels\n",
    "    for target in means.index:\n",
    "\n",
    "        # Calculate log-likelihoods for each target label\n",
    "        loglikelihood = get_loglikelihoods(X, means.loc[target], stds.loc[target])\n",
    "        loglikelihood.to_list()\n",
    "\n",
    "        # Add log-likelihoods given one target label to 3D list of log-likelihoods for all target labels\n",
    "        loglikelihoods.append(loglikelihood)\n",
    "\n",
    "    # Create DataFrame of log-likelihoods with target labels in rows and instances in columns\n",
    "    loglikelihoods = pd.DataFrame(loglikelihoods).set_index(means.index)\n",
    "    loglikelihoods.to_csv(\"log-likelihoods.csv\")\n",
    "\n",
    "    # Return target label that produces maximum log-likelihood for each instance\n",
    "    return loglikelihoods.idxmax() # Series"
   ]
  },
  {
   "cell_type": "code",
   "execution_count": 30,
   "metadata": {},
   "outputs": [],
   "source": [
    "\"\"\"\n",
    "This function should predict classes for new items in a test dataset\n",
    "(for the purposes of this assignment, you can re-use the training data as a test set)\n",
    "\"\"\"\n",
    "def predict():\n",
    "\n",
    "    # Read in data and calculated priors, means and standard deviations\n",
    "    data   = pd.read_csv(\"train_clean.csv\").loc[:,\"x1\":\"y11\"]\n",
    "    priors = pd.read_csv(\"priors.csv\",index_col=\"target\")\n",
    "    means  = pd.read_csv( \"means.csv\",index_col=\"target\")\n",
    "    stds   = pd.read_csv(  \"stds.csv\",index_col=\"target\")\n",
    "\n",
    "    #test_target = pd.read_csv(\"test_clean.csv\").loc[:,'target'].unique()\n",
    "\n",
    "    # Predict target label for each instance using Gaussian Naive-Bayes model\n",
    "    predicted_labels = NB_predict(data, means, stds)\n",
    "\n",
    "    # QUESTION THREE\n",
    "    # predicted_labels = KDE_NB_predict(data)\n",
    "\n",
    "    # Write predicted labels to csv\n",
    "    predicted_labels.to_csv(\"predicted_labels.csv\",header=False,index=False)\n",
    "\n",
    "    return\n"
   ]
  },
  {
   "cell_type": "code",
   "execution_count": 36,
   "metadata": {},
   "outputs": [],
   "source": [
    "\"\"\"\n",
    "This function should evaluate the prediction performance by\n",
    "comparing your model’s class outputs to ground truth labels\n",
    "\"\"\"\n",
    "def evaluate():\n",
    "\n",
    "    # Read in true and predicted labels to Series\n",
    "    true_labels      = pd.read_csv(\"train_clean.csv\").loc[:,\"target\"]\n",
    "    predicted_labels = pd.read_csv(\"predicted_labels.csv\",header=None,squeeze=True)\n",
    "\n",
    "    # Calculate accuracy = (TP + TN) / (TP + FP + FN + TN)\n",
    "    accuracy = (true_labels == predicted_labels).sum() / true_labels.size\n",
    "\n",
    "    print(\"Accuracy: \", accuracy)\n",
    "    return"
   ]
  },
  {
   "cell_type": "code",
   "execution_count": 32,
   "metadata": {},
   "outputs": [
    {
     "name": "stderr",
     "output_type": "stream",
     "text": [
      "/Users/wuyongyi/opt/anaconda3/lib/python3.7/site-packages/ipykernel_launcher.py:10: RuntimeWarning: divide by zero encountered in log\n",
      "  # Remove the CWD from sys.path while we load stuff.\n"
     ]
    },
    {
     "name": "stdout",
     "output_type": "stream",
     "text": [
      "Accuracy:  0.6010709504685409\n"
     ]
    }
   ],
   "source": [
    "# Run all the functions\n",
    "preprocess()\n",
    "train()\n",
    "predict()\n",
    "evaluate()\n"
   ]
  },
  {
   "cell_type": "markdown",
   "metadata": {},
   "source": [
    "## Questions \n",
    "\n",
    "\n",
    "If you are in a group of 1, you will respond to **two** questions of your choosing.\n",
    "\n",
    "If you are in a group of 2, you will respond to **four** questions of your choosing.\n",
    "\n",
    "A response to a question should take about 100–250 words, and make reference to the data wherever possible.\n",
    "\n",
    "#### NOTE: you may develope codes or functions to help respond to the question here, but your formal answer should be submitted separately as a PDF."
   ]
  },
  {
   "cell_type": "markdown",
   "metadata": {},
   "source": [
    "### Q1\n",
    "Since this is a multiclass classification problem, there are multiple ways to compute precision, recall, and F-score for this classifier. Implement at least two of the methods from the \"Model Evaluation\" lecture and discuss any differences between them. (The implementation should be your own and should not just call a pre-existing function.)"
   ]
  },
  {
   "cell_type": "code",
   "execution_count": 42,
   "metadata": {},
   "outputs": [
    {
     "data": {
      "text/plain": [
       "0.6010709504685409"
      ]
     },
     "execution_count": 42,
     "metadata": {},
     "output_type": "execute_result"
    }
   ],
   "source": [
    "# Create confusion matrix\n",
    "\n",
    "true_labels      = pd.read_csv(\"train_clean.csv\").loc[:,\"target\"]\n",
    "predicted_labels = pd.read_csv(\"predicted_labels.csv\",header=None,squeeze=True)\n",
    "\n",
    "confusionmatrix = np.array(pd.crosstab(true_labels, predicted_labels))\n",
    "\n",
    "tp = np.diag(confusionmatrix)\n",
    "\n",
    "# Macro-averaging\n",
    "precision = tp / confusionmatrix.sum(axis=0)\n",
    "precision.mean()\n",
    "\n",
    "# Micro-averaging\n",
    "tp.sum() / (confusionmatrix.sum(axis=0)).sum()"
   ]
  },
  {
   "cell_type": "markdown",
   "metadata": {},
   "source": [
    "### Q2\n",
    "The Gaussian naıve Bayes classifier assumes that numeric attributes come from a Gaussian distribution. Is this assumption always true for the numeric attributes in this dataset? Identify some cases where the Gaussian assumption is violated and describe any evidence (or lack thereof) that this has some effect on the classifier’s predictions."
   ]
  },
  {
   "cell_type": "code",
   "execution_count": null,
   "metadata": {},
   "outputs": [],
   "source": [
    "import matplotlib.pyplot as plt"
   ]
  },
  {
   "cell_type": "code",
   "execution_count": 66,
   "metadata": {},
   "outputs": [
    {
     "data": {
      "image/png": "[encoded data removed]",
      "text/plain": [
       "<Figure size 432x288 with 1 Axes>"
      ]
     },
     "metadata": {
      "needs_background": "light"
     },
     "output_type": "display_data"
    }
   ],
   "source": [
    "data = pd.read_csv(\"train_clean.csv\")\n",
    "data.set_index(\"target\",inplace=True)\n",
    "exampleset = data.loc['childs', 'x1']\n",
    "plt.hist(exampleset, bins = 40, density = True)\n",
    "plt.show()"
   ]
  },
  {
   "cell_type": "code",
   "execution_count": 67,
   "metadata": {},
   "outputs": [
    {
     "data": {
      "text/plain": [
       "[<matplotlib.lines.Line2D at 0x7fc201279910>]"
      ]
     },
     "execution_count": 67,
     "metadata": {},
     "output_type": "execute_result"
    },
    {
     "data": {
      "image/png": "[encoded data removed]",
      "text/plain": [
       "<Figure size 432x288 with 1 Axes>"
      ]
     },
     "metadata": {
      "needs_background": "light"
     },
     "output_type": "display_data"
    }
   ],
   "source": [
    "means = exampleset.mean()\n",
    "stds = exampleset.std()\n",
    "x = np.linspace(-150, 100)\n",
    "plt.plot(x, norm.pdf(x, means, stds))"
   ]
  },
  {
   "cell_type": "markdown",
   "metadata": {},
   "source": [
    "### Q3\n",
    "Implement a kernel density estimate (KDE) naive Bayes classifier and compare its performance to the Gaussian naive Bayes classifier. Recall that KDE has kernel bandwidth as a free parameter -- you can choose an arbitrary value for this, but a value in the range 5-25 is recommended. Discuss any differences you observe between the Gaussian and KDE naive Bayes classifiers. (As with the Gaussian naive Bayes, this KDE naive Bayes implementation should be your own and should not just call a pre-existing function.)"
   ]
  },
  {
   "cell_type": "code",
   "execution_count": null,
   "metadata": {
    "collapsed": true
   },
   "outputs": [],
   "source": []
  },
  {
   "cell_type": "markdown",
   "metadata": {},
   "source": [
    "### Q4\n",
    "Instead of using an arbitrary kernel bandwidth for the KDE naive Bayes classifier, use random hold-out or cross-validation to choose the kernel bandwidth. Discuss how this changes the model performance compared to using an arbitrary kernel bandwidth."
   ]
  },
  {
   "cell_type": "code",
   "execution_count": null,
   "metadata": {
    "collapsed": true
   },
   "outputs": [],
   "source": []
  },
  {
   "cell_type": "markdown",
   "metadata": {},
   "source": [
    "### Q5\n",
    "Naive Bayes ignores missing values, but in pose recognition tasks the missing values can be informative. Missing values indicate that some part of the body was obscured and sometimes this is relevant to the pose (e.g., holding one hand behind the back). Are missing values useful for this task? Implement a method that incorporates information about missing values and demonstrate whether it changes the classification results."
   ]
  },
  {
   "cell_type": "code",
   "execution_count": null,
   "metadata": {
    "collapsed": true
   },
   "outputs": [],
   "source": []
  },
  {
   "cell_type": "markdown",
   "metadata": {},
   "source": [
    "### Q6\n",
    "Engineer your own pose features from the provided keypoints. Instead of using the (x,y) positions of keypoints, you might consider the angles of the limbs or body, or the distances between pairs of keypoints. How does a naive Bayes classifier based on your engineered features compare to the classifier using (x,y) values? Please note that we are interested in explainable features for pose recognition, so simply putting the (x,y) values in a neural network or similar to get an arbitrary embedding will not receive full credit for this question. You should be able to explain the rationale behind your proposed features. Also, don't forget the conditional independence assumption of naive Bayes when proposing new features -- a large set of highly-correlated features may not work well."
   ]
  },
  {
   "cell_type": "code",
   "execution_count": null,
   "metadata": {
    "collapsed": true
   },
   "outputs": [],
   "source": []
  }
 ],
 "metadata": {
  "kernelspec": {
   "display_name": "Python 3",
   "language": "python",
   "name": "python3"
  },
  "language_info": {
   "codemirror_mode": {
    "name": "ipython",
    "version": 3
   },
   "file_extension": ".py",
   "mimetype": "text/x-python",
   "name": "python",
   "nbconvert_exporter": "python",
   "pygments_lexer": "ipython3",
   "version": "3.7.6"
  }
 },
 "nbformat": 4,
 "nbformat_minor": 4
}
